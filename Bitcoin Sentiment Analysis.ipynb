{
 "cells": [
  {
   "cell_type": "markdown",
   "id": "7aa2ed27",
   "metadata": {},
   "source": [
    "# Libraries"
   ]
  },
  {
   "cell_type": "code",
   "execution_count": 9,
   "id": "3f6e6c71",
   "metadata": {},
   "outputs": [],
   "source": [
    "import pandas as pd\n",
    "import numpy as np\n",
    "import nltk\n",
    "from nltk.stem import PorterStemmer\n",
    "from nltk.tokenize import word_tokenize\n",
    "import re\n",
    "from nltk.corpus import stopwords\n",
    "from nltk.sentiment import SentimentIntensityAnalyzer\n",
    "from sklearn.model_selection import train_test_split\n",
    "from sklearn.feature_extraction.text import TfidfVectorizer\n",
    "from sklearn.linear_model import LogisticRegression\n",
    "from sklearn.metrics import classification_report, accuracy_score\n",
    "import matplotlib.pyplot as plt\n",
    "from transformers import pipeline\n",
    "import warnings\n",
    "warnings.filterwarnings(\"ignore\", message=\"A NumPy version >=1.16.5 and <1.23.0 is required for this version of SciPy\")"
   ]
  },
  {
   "cell_type": "markdown",
   "id": "f4cd5798",
   "metadata": {},
   "source": [
    "# Data Manipulation"
   ]
  },
  {
   "cell_type": "code",
   "execution_count": 10,
   "id": "5baca81c",
   "metadata": {},
   "outputs": [],
   "source": [
    "bitcoin_tweets = pd.read_csv('Tweets data on Cryptocurrency.csv')"
   ]
  },
  {
   "cell_type": "code",
   "execution_count": 11,
   "id": "9f55cc74",
   "metadata": {},
   "outputs": [
    {
     "data": {
      "text/plain": [
       "(197753, 15)"
      ]
     },
     "execution_count": 11,
     "metadata": {},
     "output_type": "execute_result"
    }
   ],
   "source": [
    "bitcoin_tweets.shape"
   ]
  },
  {
   "cell_type": "markdown",
   "id": "3a024a71",
   "metadata": {},
   "source": [
    "Due to the demanding computational requirements, we will subset the analysis to just the first 5000 rows of the data."
   ]
  },
  {
   "cell_type": "code",
   "execution_count": 32,
   "id": "99690367",
   "metadata": {},
   "outputs": [],
   "source": [
    "bitcoin_tweets = bitcoin_tweets.sample(500)"
   ]
  },
  {
   "cell_type": "code",
   "execution_count": 33,
   "id": "5345b917",
   "metadata": {},
   "outputs": [
    {
     "data": {
      "text/plain": [
       "(500, 18)"
      ]
     },
     "execution_count": 33,
     "metadata": {},
     "output_type": "execute_result"
    }
   ],
   "source": [
    "bitcoin_tweets.shape"
   ]
  },
  {
   "cell_type": "markdown",
   "id": "7ae454a0",
   "metadata": {},
   "source": [
    "### Text Preprocessing for Sentiment Analysis\n",
    "\n",
    "Our text preprocessing pipeline incorporates a stemming process, which is crucial for reducing words to their root form, thus simplifying the textual data and enhancing the subsequent analysis. The Python function `stemming` utilizes the Porter Stemming algorithm, provided by the NLTK library's `PorterStemmer`, to perform this task. The function begins by removing non-alphabetic characters from the content and converting it to lowercase to maintain uniformity. It then tokenizes the text into individual words, excluding common English stopwords to eliminate noise in the data. Finally, each word is stemmed, and the processed words are concatenated back into a single string. This standardized text is now primed for feature extraction and further sentiment analysis steps, contributing to the accuracy of our predictive models."
   ]
  },
  {
   "cell_type": "code",
   "execution_count": 14,
   "id": "ead4de28",
   "metadata": {},
   "outputs": [],
   "source": [
    "ps = PorterStemmer()\n",
    "\n",
    "def stemming(content):\n",
    "    stemmed_content = re.sub('[^a-zA-Z]', ' ', content)\n",
    "    stemmed_content = stemmed_content.lower()\n",
    "    stemmed_content = stemmed_content.split()\n",
    "    stemmed_content = [ps.stem(word) for word in stemmed_content if not word in stopwords.words('english')]\n",
    "    stemmed_content = ' '.join(stemmed_content)\n",
    "    \n",
    "    return stemmed_content"
   ]
  },
  {
   "cell_type": "code",
   "execution_count": 15,
   "id": "e8c9e8e1",
   "metadata": {},
   "outputs": [],
   "source": [
    "bitcoin_tweets['stemmed_text'] = bitcoin_tweets['text'].apply(stemming)"
   ]
  },
  {
   "cell_type": "markdown",
   "id": "05e5d3a1",
   "metadata": {},
   "source": [
    "# Sentiment Analysis"
   ]
  },
  {
   "cell_type": "markdown",
   "id": "fcf42207",
   "metadata": {},
   "source": [
    "### Sentiment Classification\n",
    "The `bitcoin_tweets` DataFrame was enhanced with sentiment analysis using NLTK's Sentiment Intensity Analyzer. A function calculated the compound sentiment score for each tweet's stemmed text and classified it as positive (1) if the score was above zero, or negative (0) if not. The resulting binary sentiment classifications, now part of the DataFrame, serve as indicators for the prevailing mood in cryptocurrency-related discussions."
   ]
  },
  {
   "cell_type": "code",
   "execution_count": 16,
   "id": "fee0e682",
   "metadata": {},
   "outputs": [],
   "source": [
    "# Initialize the Sentiment Intensity Analyzer\n",
    "sia = SentimentIntensityAnalyzer()\n",
    "\n",
    "# Define a function to get the compound sentiment score\n",
    "def get_sentiment(text):\n",
    "    score = sia.polarity_scores(text)\n",
    "    return score['compound']  \n",
    "\n",
    "# Apply the function to get the sentiment score of the stemmed_text\n",
    "bitcoin_tweets['sentiment_score'] = bitcoin_tweets['stemmed_text'].apply(get_sentiment)\n",
    "\n",
    "# Classify the sentiment as positive (1) if compound score > 0, else negative (0)\n",
    "bitcoin_tweets['sentiment'] = bitcoin_tweets['sentiment_score'].apply(lambda x: 1 if x > 0 else 0)"
   ]
  },
  {
   "cell_type": "markdown",
   "id": "ac598bbe",
   "metadata": {},
   "source": [
    "### Sentiment Prediction Model\n",
    "\n",
    "For our sentiment analysis, we employed TF-IDF vectorization to convert the stemmed text of the `bitcoin_tweets` DataFrame into a numerical format suitable for machine learning, capping the feature set at 5000 words. The dataset was then divided into training and testing subsets, with 80% of the data allocated for training and the remaining 20% for testing. A Logistic Regression model was trained on the dataset to predict the sentiment of tweets as either positive or negative. The model's performance on the test set achieved an accuracy that quantifies its effectiveness in correctly classifying sentiments. Furthermore, detailed metrics such as precision, recall, and f1-score were computed to provide a comprehensive evaluation of the model's predictive power on the unseen data, ensuring the robustness of our sentiment classification approach."
   ]
  },
  {
   "cell_type": "code",
   "execution_count": 34,
   "id": "e99079c0",
   "metadata": {},
   "outputs": [
    {
     "name": "stdout",
     "output_type": "stream",
     "text": [
      "Accuracy: 0.68\n",
      "              precision    recall  f1-score   support\n",
      "\n",
      "           0       0.67      0.81      0.73        54\n",
      "           1       0.71      0.52      0.60        46\n",
      "\n",
      "    accuracy                           0.68       100\n",
      "   macro avg       0.69      0.67      0.67       100\n",
      "weighted avg       0.68      0.68      0.67       100\n",
      "\n",
      "Top positive words contributing to positive sentiment:\n",
      "['play' 'great' 'win' 'join' 'good' 'best' 'support' 'boltcoin' 'like'\n",
      " 'project']\n",
      "\n",
      "Top negative words contributing to negative sentiment:\n",
      "['btc' 'buy' 'crash' 'hodl' 'drop' 'amp' 'bottom' 'nftcommun'\n",
      " 'nftcollector' 'short']\n"
     ]
    }
   ],
   "source": [
    "# Feature Extraction with TF-IDF\n",
    "tfidf = TfidfVectorizer(max_features=5000)\n",
    "X = tfidf.fit_transform(bitcoin_tweets['stemmed_text']).toarray()\n",
    "y = bitcoin_tweets['sentiment']\n",
    "\n",
    "# Get the feature names correctly from the vectorizer\n",
    "feature_names = np.array(tfidf.get_feature_names_out())\n",
    "\n",
    "# Splitting the dataset into the training and testing set\n",
    "X_train, X_test, y_train, y_test = train_test_split(X, y, test_size=0.2, random_state=0)\n",
    "\n",
    "# Training the Logistic Regression model\n",
    "model = LogisticRegression()\n",
    "model.fit(X_train, y_train)\n",
    "\n",
    "# Predicting the Test set results\n",
    "y_pred = model.predict(X_test)\n",
    "\n",
    "# Evaluating the model\n",
    "print(\"Accuracy:\", accuracy_score(y_test, y_pred))\n",
    "print(classification_report(y_test, y_pred))\n",
    "\n",
    "# Get the model's coefficients\n",
    "coef = model.coef_.flatten()\n",
    "\n",
    "# Top positive and negative features\n",
    "top_positive_coefficients = np.argsort(coef)[-10:]\n",
    "top_negative_coefficients = np.argsort(coef)[:10]\n",
    "\n",
    "print(\"Top positive words contributing to positive sentiment:\")\n",
    "print(feature_names[top_positive_coefficients])\n",
    "\n",
    "print(\"\\nTop negative words contributing to negative sentiment:\")\n",
    "print(feature_names[top_negative_coefficients])"
   ]
  },
  {
   "cell_type": "markdown",
   "id": "3e7378a9",
   "metadata": {},
   "source": [
    "In evaluating the performance of a logistic regression model tasked with sentiment analysis on Bitcoin-related tweets, we observe an overall accuracy of 68%. The model demonstrates a nuanced ability to differentiate between positive and negative sentiments, achieving a precision of 71% for positive sentiments and 67% for negative ones. Notably, it exhibits a higher recall for negative sentiments at 81% compared to 52% for positive sentiments, indicating a stronger propensity for accurately identifying negative sentiment tweets. The F1-scores further encapsulate this differential performance with 73% for negative sentiments and 60% for positive sentiments. The lexical analysis reveals that optimistic and community-centric terms like 'play', 'great', 'win', and 'project' significantly contribute to positive sentiment predictions. In contrast, terms associated with market dynamics and trading activities such as 'btc', 'buy', 'crash', and 'hodl' are predominant in predicting negative sentiments. This lexical dichotomy underscores the model's sensitivity to the thematic elements prevalent in cryptocurrency discussions, particularly highlighting the impact of market volatility and community engagement on sentiment perception."
   ]
  },
  {
   "cell_type": "markdown",
   "id": "5bf0366f",
   "metadata": {},
   "source": [
    "# Data Visualization"
   ]
  },
  {
   "cell_type": "markdown",
   "id": "d3102835",
   "metadata": {},
   "source": [
    "The two images exhibit horizontal bar charts, one with blue bars and the other with red bars, both illustrating a descending order of magnitude from top to bottom. The blue chart conveys a standard analytical tone commonly employed in business or research settings to denote various data metrics such as sales, rankings, or performance indicators. In contrast, the red chart suggests a sense of urgency or warning, which could be associated with critical issues such as financial losses, risks, or other negative trends. The absence of any labels or axes titles prevents a detailed interpretation of the data; however, the color choices and layout are indicative of their potential use—blue for neutral reporting and red for highlighting areas of concern."
   ]
  },
  {
   "cell_type": "code",
   "execution_count": 43,
   "id": "56fd9e9b",
   "metadata": {},
   "outputs": [
    {
     "data": {
      "image/png": "[encoded data removed]",
      "text/plain": [
       "<Figure size 720x576 with 1 Axes>"
      ]
     },
     "metadata": {
      "needs_background": "light"
     },
     "output_type": "display_data"
    }
   ],
   "source": [
    "# Sort the coefficients and select the top N\n",
    "top_n = 20\n",
    "sorted_indices = np.argsort(coef)[-top_n:]\n",
    "top_features = feature_names[sorted_indices]\n",
    "top_weights = coef[sorted_indices]\n",
    "\n",
    "# Plot\n",
    "plt.figure(figsize=(10, 8))\n",
    "plt.barh(range(top_n), top_weights, align='center')\n",
    "plt.yticks(range(top_n), top_features)\n",
    "plt.xlabel('Coefficient Value')\n",
    "plt.title('Top Words Contributing to Positive Sentiment')\n",
    "plt.gca().invert_yaxis()\n"
   ]
  },
  {
   "cell_type": "code",
   "execution_count": 44,
   "id": "f2f7eda2",
   "metadata": {},
   "outputs": [
    {
     "data": {
      "image/png": "[encoded data removed]",
      "text/plain": [
       "<Figure size 720x576 with 1 Axes>"
      ]
     },
     "metadata": {
      "needs_background": "light"
     },
     "output_type": "display_data"
    }
   ],
   "source": [
    "# Sort the coefficients and select the top N with the most negative values\n",
    "top_n_negative = 20\n",
    "sorted_indices_negative = np.argsort(coef)[:top_n_negative]\n",
    "top_negative_features = feature_names[sorted_indices_negative]\n",
    "top_negative_weights = coef[sorted_indices_negative]\n",
    "\n",
    "# Plot\n",
    "plt.figure(figsize=(10, 8))\n",
    "plt.barh(range(top_n_negative), top_negative_weights, align='center', color='red')\n",
    "plt.yticks(range(top_n_negative), top_negative_features)\n",
    "plt.xlabel('Coefficient Value')\n",
    "plt.title('Top Words Contributing to Negative Sentiment')\n",
    "plt.gca().invert_yaxis()\n",
    "plt.show()\n"
   ]
  },
  {
   "cell_type": "markdown",
   "id": "aed2a7cd",
   "metadata": {},
   "source": [
    "# Emotion Detection "
   ]
  },
  {
   "cell_type": "markdown",
   "id": "f81a8608",
   "metadata": {},
   "source": [
    "Our report incorporates a cutting-edge emotion detection model from the Hugging Face Model Hub, significantly advancing beyond basic sentiment analysis. This model, leveraging the `transformers` library, classifies cryptocurrency-related tweets into diverse emotional states, providing a detailed emotional spectrum from the text data. This nuanced approach enables deeper insights into public sentiment and user feedback, facilitating informed decision-making and personalized engagement strategies. By understanding the broad range of emotions within textual content, we gain a more comprehensive view of public opinion, enhancing communication and engagement efforts with targeted audiences."
   ]
  },
  {
   "cell_type": "code",
   "execution_count": 12,
   "id": "ad1b0f65",
   "metadata": {},
   "outputs": [
    {
     "name": "stdout",
     "output_type": "stream",
     "text": [
      "Note: you may need to restart the kernel to use updated packages.\n"
     ]
    }
   ],
   "source": [
    "pip install torch transformers -q"
   ]
  },
  {
   "cell_type": "code",
   "execution_count": 3,
   "id": "f94d5807",
   "metadata": {},
   "outputs": [
    {
     "name": "stdout",
     "output_type": "stream",
     "text": [
      "anger: 0.0043\n",
      "disgust: 0.0012\n",
      "fear: 0.0017\n",
      "joy: 0.9006\n",
      "neutral: 0.0195\n",
      "sadness: 0.0045\n",
      "surprise: 0.0683\n"
     ]
    }
   ],
   "source": [
    "# Load a pre-trained emotion detection model\n",
    "emotion_detector = pipeline(\"text-classification\", model=\"j-hartmann/emotion-english-distilroberta-base\", return_all_scores=True)"
   ]
  },
  {
   "cell_type": "markdown",
   "id": "bfe11233",
   "metadata": {},
   "source": [
    "In our analysis, we incorporated a function, `get_highest_emotion`, designed to identify the most prominent emotion from the text of each tweet. Utilizing a pre-trained emotion detection model, the function processes the input text and retrieves a list of possible emotions along with their corresponding confidence scores. It determines the predominant emotion by selecting the one with the highest confidence score. The result is a refined dataset that not only captures the sentiment but also the nuanced emotional context of each tweet, providing deeper insights into the collective mood of the cryptocurrency conversation."
   ]
  },
  {
   "cell_type": "code",
   "execution_count": 4,
   "id": "54a4b2de",
   "metadata": {},
   "outputs": [],
   "source": [
    "def get_highest_emotion(text):\n",
    "    emotions = emotion_detector(text)\n",
    "    # Sort the emotions based on score and get the highest\n",
    "    highest_emotion = max(emotions[0], key=lambda x: x['score'])\n",
    "    return highest_emotion['label']"
   ]
  },
  {
   "cell_type": "code",
   "execution_count": 39,
   "id": "7169aeed",
   "metadata": {},
   "outputs": [],
   "source": [
    "bitcoin_tweets['emotions'] = bitcoin_tweets['stemmed_text'].apply(get_highest_emotion)"
   ]
  },
  {
   "cell_type": "code",
   "execution_count": 40,
   "id": "66f6b0d1",
   "metadata": {},
   "outputs": [
    {
     "data": {
      "text/html": [
       "<div>\n",
       "<style scoped>\n",
       "    .dataframe tbody tr th:only-of-type {\n",
       "        vertical-align: middle;\n",
       "    }\n",
       "\n",
       "    .dataframe tbody tr th {\n",
       "        vertical-align: top;\n",
       "    }\n",
       "\n",
       "    .dataframe thead th {\n",
       "        text-align: right;\n",
       "    }\n",
       "</style>\n",
       "<table border=\"1\" class=\"dataframe\">\n",
       "  <thead>\n",
       "    <tr style=\"text-align: right;\">\n",
       "      <th></th>\n",
       "      <th>Unnamed: 0</th>\n",
       "      <th>user_name</th>\n",
       "      <th>user_location</th>\n",
       "      <th>user_description</th>\n",
       "      <th>user_created</th>\n",
       "      <th>user_followers</th>\n",
       "      <th>user_friends</th>\n",
       "      <th>user_favourites</th>\n",
       "      <th>user_verified</th>\n",
       "      <th>date</th>\n",
       "      <th>text</th>\n",
       "      <th>hashtags</th>\n",
       "      <th>tweet_source</th>\n",
       "      <th>user_days_on_twitter</th>\n",
       "      <th>RiseFall</th>\n",
       "      <th>stemmed_text</th>\n",
       "      <th>sentiment_score</th>\n",
       "      <th>sentiment</th>\n",
       "      <th>emotions</th>\n",
       "    </tr>\n",
       "  </thead>\n",
       "  <tbody>\n",
       "    <tr>\n",
       "      <th>73677</th>\n",
       "      <td>73677</td>\n",
       "      <td>Taslima Liza</td>\n",
       "      <td>United States</td>\n",
       "      <td>#NFT #Bitcoin Promoter #Crypto #Polker</td>\n",
       "      <td>18/08/2021 7:53</td>\n",
       "      <td>79</td>\n",
       "      <td>378</td>\n",
       "      <td>173</td>\n",
       "      <td>False</td>\n",
       "      <td>22/01/2022 9:42</td>\n",
       "      <td>Blockchain is the future of online gaming. Let...</td>\n",
       "      <td>['Bitcoin', 'Solana', 'Crypto', 'nftcollector'...</td>\n",
       "      <td>Twitter Web App</td>\n",
       "      <td>157</td>\n",
       "      <td>Equal</td>\n",
       "      <td>blockchain futur onlin game let creat new worl...</td>\n",
       "      <td>0.0000</td>\n",
       "      <td>0</td>\n",
       "      <td>joy</td>\n",
       "    </tr>\n",
       "    <tr>\n",
       "      <th>166081</th>\n",
       "      <td>166081</td>\n",
       "      <td>BlazTColdGenerator</td>\n",
       "      <td>Worldwide</td>\n",
       "      <td>I'm BTC Max &amp; inventor of BlazTCold Generator!...</td>\n",
       "      <td>11/05/2019 9:32</td>\n",
       "      <td>703</td>\n",
       "      <td>2412</td>\n",
       "      <td>3812</td>\n",
       "      <td>True</td>\n",
       "      <td>16/03/2022 11:16</td>\n",
       "      <td>Bitcoin breaks $40,000 ahead of the Federal Re...</td>\n",
       "      <td>['btc', 'bitcoin', 'cryptocurrency', 'inflation']</td>\n",
       "      <td>Twitter Web App</td>\n",
       "      <td>1040</td>\n",
       "      <td>Equal</td>\n",
       "      <td>bitcoin break ahead feder reserv decis http co...</td>\n",
       "      <td>0.0000</td>\n",
       "      <td>0</td>\n",
       "      <td>neutral</td>\n",
       "    </tr>\n",
       "    <tr>\n",
       "      <th>5453</th>\n",
       "      <td>5453</td>\n",
       "      <td>Jordan Go</td>\n",
       "      <td>Bandung</td>\n",
       "      <td>Dreamboat\\nTelegram: https://t.co/3iG7tI18ci \\...</td>\n",
       "      <td>3/07/2020 14:46</td>\n",
       "      <td>1707</td>\n",
       "      <td>525</td>\n",
       "      <td>1149</td>\n",
       "      <td>False</td>\n",
       "      <td>12/01/2022 3:13</td>\n",
       "      <td>The Best Capital 🚀🚀🚀\\n\\nFollow: @Dreamboat_id ...</td>\n",
       "      <td>['DreamboatCapital', 'Metaverse', 'Ethereum', ...</td>\n",
       "      <td>Twitter Web App</td>\n",
       "      <td>557</td>\n",
       "      <td>Equal</td>\n",
       "      <td>best capit follow dreamboat id dreamboatcapit ...</td>\n",
       "      <td>0.6369</td>\n",
       "      <td>1</td>\n",
       "      <td>joy</td>\n",
       "    </tr>\n",
       "    <tr>\n",
       "      <th>45313</th>\n",
       "      <td>45313</td>\n",
       "      <td>Wellington Campos Júnior</td>\n",
       "      <td>USA/BRASIL</td>\n",
       "      <td>Investor,son,Dad,Husband,HODLER, Trader  (ALTE...</td>\n",
       "      <td>7/07/2021 4:50</td>\n",
       "      <td>24</td>\n",
       "      <td>371</td>\n",
       "      <td>134</td>\n",
       "      <td>False</td>\n",
       "      <td>20/01/2022 7:49</td>\n",
       "      <td>MAKE MISTAKES, LEARN!   #BTC $SOUL $ETNA #Gene...</td>\n",
       "      <td>['BTC', 'GenesisWorlds', 'Etherland', 'MetaSpa...</td>\n",
       "      <td>Twitter Web App</td>\n",
       "      <td>197</td>\n",
       "      <td>Equal</td>\n",
       "      <td>make mistak learn btc soul etna genesisworld e...</td>\n",
       "      <td>0.2732</td>\n",
       "      <td>1</td>\n",
       "      <td>neutral</td>\n",
       "    </tr>\n",
       "    <tr>\n",
       "      <th>160488</th>\n",
       "      <td>160488</td>\n",
       "      <td>xxxbpxxx</td>\n",
       "      <td>@ HOME</td>\n",
       "      <td>Admin team @jinjimetaX &amp; @MarissaCrypto &amp; @Wiz...</td>\n",
       "      <td>30/09/2015 6:09</td>\n",
       "      <td>388</td>\n",
       "      <td>1181</td>\n",
       "      <td>13831</td>\n",
       "      <td>True</td>\n",
       "      <td>15/03/2022 19:59</td>\n",
       "      <td>@OfficialTravlad Here for it. \\n#BSC #BNB  #BT...</td>\n",
       "      <td>['BSC', 'BNB', 'BTC', 'ETH', 'Airdrop', 'NFT',...</td>\n",
       "      <td>Twitter for Android</td>\n",
       "      <td>2358</td>\n",
       "      <td>Equal</td>\n",
       "      <td>officialtravlad bsc bnb btc eth airdrop nft ba...</td>\n",
       "      <td>0.0000</td>\n",
       "      <td>0</td>\n",
       "      <td>neutral</td>\n",
       "    </tr>\n",
       "  </tbody>\n",
       "</table>\n",
       "</div>"
      ],
      "text/plain": [
       "        Unnamed: 0                 user_name  user_location  \\\n",
       "73677        73677              Taslima Liza  United States   \n",
       "166081      166081        BlazTColdGenerator      Worldwide   \n",
       "5453          5453                 Jordan Go        Bandung   \n",
       "45313        45313  Wellington Campos Júnior     USA/BRASIL   \n",
       "160488      160488                  xxxbpxxx        @ HOME    \n",
       "\n",
       "                                         user_description     user_created  \\\n",
       "73677              #NFT #Bitcoin Promoter #Crypto #Polker  18/08/2021 7:53   \n",
       "166081  I'm BTC Max & inventor of BlazTCold Generator!...  11/05/2019 9:32   \n",
       "5453    Dreamboat\\nTelegram: https://t.co/3iG7tI18ci \\...  3/07/2020 14:46   \n",
       "45313   Investor,son,Dad,Husband,HODLER, Trader  (ALTE...   7/07/2021 4:50   \n",
       "160488  Admin team @jinjimetaX & @MarissaCrypto & @Wiz...  30/09/2015 6:09   \n",
       "\n",
       "        user_followers  user_friends  user_favourites  user_verified  \\\n",
       "73677               79           378              173          False   \n",
       "166081             703          2412             3812           True   \n",
       "5453              1707           525             1149          False   \n",
       "45313               24           371              134          False   \n",
       "160488             388          1181            13831           True   \n",
       "\n",
       "                    date                                               text  \\\n",
       "73677    22/01/2022 9:42  Blockchain is the future of online gaming. Let...   \n",
       "166081  16/03/2022 11:16  Bitcoin breaks $40,000 ahead of the Federal Re...   \n",
       "5453     12/01/2022 3:13  The Best Capital 🚀🚀🚀\\n\\nFollow: @Dreamboat_id ...   \n",
       "45313    20/01/2022 7:49  MAKE MISTAKES, LEARN!   #BTC $SOUL $ETNA #Gene...   \n",
       "160488  15/03/2022 19:59  @OfficialTravlad Here for it. \\n#BSC #BNB  #BT...   \n",
       "\n",
       "                                                 hashtags  \\\n",
       "73677   ['Bitcoin', 'Solana', 'Crypto', 'nftcollector'...   \n",
       "166081  ['btc', 'bitcoin', 'cryptocurrency', 'inflation']   \n",
       "5453    ['DreamboatCapital', 'Metaverse', 'Ethereum', ...   \n",
       "45313   ['BTC', 'GenesisWorlds', 'Etherland', 'MetaSpa...   \n",
       "160488  ['BSC', 'BNB', 'BTC', 'ETH', 'Airdrop', 'NFT',...   \n",
       "\n",
       "               tweet_source  user_days_on_twitter RiseFall  \\\n",
       "73677       Twitter Web App                   157    Equal   \n",
       "166081      Twitter Web App                  1040    Equal   \n",
       "5453        Twitter Web App                   557    Equal   \n",
       "45313       Twitter Web App                   197    Equal   \n",
       "160488  Twitter for Android                  2358    Equal   \n",
       "\n",
       "                                             stemmed_text  sentiment_score  \\\n",
       "73677   blockchain futur onlin game let creat new worl...           0.0000   \n",
       "166081  bitcoin break ahead feder reserv decis http co...           0.0000   \n",
       "5453    best capit follow dreamboat id dreamboatcapit ...           0.6369   \n",
       "45313   make mistak learn btc soul etna genesisworld e...           0.2732   \n",
       "160488  officialtravlad bsc bnb btc eth airdrop nft ba...           0.0000   \n",
       "\n",
       "        sentiment emotions  \n",
       "73677           0      joy  \n",
       "166081          0  neutral  \n",
       "5453            1      joy  \n",
       "45313           1  neutral  \n",
       "160488          0  neutral  "
      ]
     },
     "execution_count": 40,
     "metadata": {},
     "output_type": "execute_result"
    }
   ],
   "source": [
    "bitcoin_tweets.head()"
   ]
  },
  {
   "cell_type": "code",
   "execution_count": 42,
   "id": "7cd847de",
   "metadata": {},
   "outputs": [],
   "source": [
    "bitcoin_tweets.to_csv('bitcoin_tweets_emotions.csv')"
   ]
  }
 ],
 "metadata": {
  "kernelspec": {
   "display_name": "Python 3 (ipykernel)",
   "language": "python",
   "name": "python3"
  },
  "language_info": {
   "codemirror_mode": {
    "name": "ipython",
    "version": 3
   },
   "file_extension": ".py",
   "mimetype": "text/x-python",
   "name": "python",
   "nbconvert_exporter": "python",
   "pygments_lexer": "ipython3",
   "version": "3.9.12"
  }
 },
 "nbformat": 4,
 "nbformat_minor": 5
}
